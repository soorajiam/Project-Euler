{
 "cells": [
  {
   "cell_type": "markdown",
   "metadata": {},
   "source": [
    "\n",
    "\n",
    "If we list all the natural numbers below 10 that are multiples of 3 or 5, we get 3, 5, 6 and 9. The sum of these multiples is 23.\n",
    "\n",
    "Find the sum of all the multiples of 3 or 5 below 1000.\n"
   ]
  },
  {
   "cell_type": "code",
   "execution_count": 2,
   "metadata": {},
   "outputs": [
    {
     "name": "stdout",
     "output_type": "stream",
     "text": [
      "the sum is :  233168\n"
     ]
    }
   ],
   "source": [
    "i=1\n",
    "sum=0\n",
    "while(i<1000):\n",
    "    if i%5==0 or i%3==0:\n",
    "        sum+=i\n",
    "    i=i+1\n",
    "print('the sum is : ',sum)"
   ]
  },
  {
   "cell_type": "markdown",
   "metadata": {},
   "source": [
    "It was an easy out experience to solve this. but to elaise that this was a certain simple problem which i used for loop which made the program complexity n . It is possible to complete this with least complexity. It would be to craft equation for sum of numbers with 3 and 5 divisible. but that too is complex we need to find if any of these have common to remove recurrance. \n",
    "hence a simple mathematical solution should be found out."
   ]
  },
  {
   "cell_type": "markdown",
   "metadata": {},
   "source": [
    "*Solve by hand using an adaptation of Gauss' method for adding 1 through 100 -- i.e., 1 + 2 + ... + 100 = (100 + (100 + 1))/2. That is, summing 1 through 100 is like taking (100 + 1) + (99 + 2) + ... + (51 + 50), which is 101*50. \n",
    "\n",
    "In this case, the sum of all natural numbers less than 1000 and divisible by 3 is equal to (333 * (999 + 3))/2. That is, \n",
    "the highest number divisible by 3 under 1000 is 999, \n",
    "and 999/3 = 333. We have (999 + 3) + (996 + 6) + ... + (504 + 498) + 501, \n",
    "which is equivalent to 1002*(333/2) = 1002*166.5 \n",
    "(because 333 is odd, we will have 501 right in the middle, which is divisible by 3 but not paired/added with another number). \n",
    "\n",
    "We do similar work for all numbers divisible by 5, as well as those divisible by 15 (which will be counted twice and hence must be subtracted once): for the sum of all divisible by 5 we calculate (199 * (995 + 5))/2 and for the sum of all divisible by 15 we calculate (66 * (990 + 15))/2. Hence, for n in\n",
    "[1,1000): (sum all n divisible by 3) + (sum all n divisible by 5) - (sum all n divisible by 15) = \n",
    "[(333 * (999 + 3))/2] + [(199 * (995 + 5))/2] - [(66 * (990 + 15))/2] = 233,168.*"
   ]
  }
 ],
 "metadata": {
  "kernelspec": {
   "display_name": "Python 3",
   "language": "python",
   "name": "python3"
  },
  "language_info": {
   "codemirror_mode": {
    "name": "ipython",
    "version": 3
   },
   "file_extension": ".py",
   "mimetype": "text/x-python",
   "name": "python",
   "nbconvert_exporter": "python",
   "pygments_lexer": "ipython3",
   "version": "3.7.1"
  }
 },
 "nbformat": 4,
 "nbformat_minor": 2
}
