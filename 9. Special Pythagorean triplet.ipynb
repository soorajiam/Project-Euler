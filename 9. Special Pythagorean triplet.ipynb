{
 "cells": [
  {
   "cell_type": "markdown",
   "metadata": {},
   "source": [
    "\n",
    "\n",
    "A Pythagorean triplet is a set of three natural numbers, a < b < c, for which,\n",
    "a2 + b2 = c2\n",
    "\n",
    "For example, 32 + 42 = 9 + 16 = 25 = 52.\n",
    "\n",
    "There exists exactly one Pythagorean triplet for which a + b + c = 1000.\n",
    "Find the product abc.\n"
   ]
  },
  {
   "cell_type": "code",
   "execution_count": 2,
   "metadata": {},
   "outputs": [
    {
     "name": "stdout",
     "output_type": "stream",
     "text": [
      "the number product is: %s, the numbers are : %s %s %s 31875000 200 375 425\n"
     ]
    }
   ],
   "source": [
    "i=1\n",
    "j=0\n",
    "k=0\n",
    "while(i<1000):\n",
    "    j=1000\n",
    "    while(j>i):\n",
    "        j-=1\n",
    "        k=1000\n",
    "        while(k>j):\n",
    "            k-=1\n",
    "            if((i+j+k)==1000):\n",
    "                if((i**2+j**2==k**2)):\n",
    "                    print(\"the number product is: %s, the numbers are : %s %s %s\",i*j*k,i,j,k )\n",
    "    i+=1"
   ]
  },
  {
   "cell_type": "code",
   "execution_count": null,
   "metadata": {},
   "outputs": [],
   "source": []
  }
 ],
 "metadata": {
  "kernelspec": {
   "display_name": "Python 3",
   "language": "python",
   "name": "python3"
  },
  "language_info": {
   "codemirror_mode": {
    "name": "ipython",
    "version": 3
   },
   "file_extension": ".py",
   "mimetype": "text/x-python",
   "name": "python",
   "nbconvert_exporter": "python",
   "pygments_lexer": "ipython3",
   "version": "3.7.1"
  }
 },
 "nbformat": 4,
 "nbformat_minor": 2
}
